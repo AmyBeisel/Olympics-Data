{
 "cells": [
  {
   "cell_type": "markdown",
   "metadata": {
    "colab_type": "text",
    "id": "nCc3XZEyG3XV"
   },
   "source": [
    "Lambda School Data Science\n",
    "\n",
    "*Unit 2, Sprint 3, Module 1*\n",
    "\n",
    "---\n",
    "\n",
    "\n",
    "# Define ML problems\n",
    "\n",
    "You will use your portfolio project dataset for all assignments this sprint.\n",
    "\n",
    "## Assignment\n",
    "\n",
    "Complete these tasks for your project, and document your decisions.\n",
    "\n",
    "- [ ] Choose your target. Which column in your tabular dataset will you predict?\n",
    "- [ ] Is your problem regression or classification?\n",
    "- [ ] How is your target distributed?\n",
    "    - Classification: How many classes? Are the classes imbalanced?\n",
    "    - Regression: Is the target right-skewed? If so, you may want to log transform the target.\n",
    "- [ ] Choose your evaluation metric(s).\n",
    "    - Classification: Is your majority class frequency >= 50% and < 70% ? If so, you can just use accuracy if you want. Outside that range, accuracy could be misleading. What evaluation metric will you choose, in addition to or instead of accuracy?\n",
    "    - Regression: Will you use mean absolute error, root mean squared error, R^2, or other regression metrics?\n",
    "- [ ] Choose which observations you will use to train, validate, and test your model.\n",
    "    - Are some observations outliers? Will you exclude them?\n",
    "    - Will you do a random split or a time-based split?\n",
    "- [ ] Begin to clean and explore your data.\n",
    "- [ ] Begin to choose which features, if any, to exclude. Would some features \"leak\" future information?\n",
    "\n",
    "If you haven't found a dataset yet, do that today. [Review requirements for your portfolio project](https://lambdaschool.github.io/ds/unit2) and choose your dataset.\n",
    "\n",
    "Some students worry, ***what if my model isn't “good”?*** Then, [produce a detailed tribute to your wrongness. That is science!](https://twitter.com/nathanwpyle/status/1176860147223867393)"
   ]
  },
  {
   "cell_type": "code",
   "execution_count": 1,
   "metadata": {},
   "outputs": [],
   "source": [
    "import pandas as pd\n",
    "import sys\n"
   ]
  },
  {
   "cell_type": "code",
   "execution_count": 2,
   "metadata": {},
   "outputs": [],
   "source": [
    "df = pd.read_csv('../../../Code_Here/120-years-of-olympic-history-athletes-and-results/athlete_events.csv')"
   ]
  },
  {
   "cell_type": "code",
   "execution_count": 3,
   "metadata": {},
   "outputs": [
    {
     "name": "stdout",
     "output_type": "stream",
     "text": [
      "(271116, 15)\n"
     ]
    },
    {
     "data": {
      "text/html": [
       "<div>\n",
       "<style scoped>\n",
       "    .dataframe tbody tr th:only-of-type {\n",
       "        vertical-align: middle;\n",
       "    }\n",
       "\n",
       "    .dataframe tbody tr th {\n",
       "        vertical-align: top;\n",
       "    }\n",
       "\n",
       "    .dataframe thead th {\n",
       "        text-align: right;\n",
       "    }\n",
       "</style>\n",
       "<table border=\"1\" class=\"dataframe\">\n",
       "  <thead>\n",
       "    <tr style=\"text-align: right;\">\n",
       "      <th></th>\n",
       "      <th>ID</th>\n",
       "      <th>Name</th>\n",
       "      <th>Sex</th>\n",
       "      <th>Age</th>\n",
       "      <th>Height</th>\n",
       "      <th>Weight</th>\n",
       "      <th>Team</th>\n",
       "      <th>NOC</th>\n",
       "      <th>Games</th>\n",
       "      <th>Year</th>\n",
       "      <th>Season</th>\n",
       "      <th>City</th>\n",
       "      <th>Sport</th>\n",
       "      <th>Event</th>\n",
       "      <th>Medal</th>\n",
       "    </tr>\n",
       "  </thead>\n",
       "  <tbody>\n",
       "    <tr>\n",
       "      <th>0</th>\n",
       "      <td>1</td>\n",
       "      <td>A Dijiang</td>\n",
       "      <td>M</td>\n",
       "      <td>24.0</td>\n",
       "      <td>180.0</td>\n",
       "      <td>80.0</td>\n",
       "      <td>China</td>\n",
       "      <td>CHN</td>\n",
       "      <td>1992 Summer</td>\n",
       "      <td>1992</td>\n",
       "      <td>Summer</td>\n",
       "      <td>Barcelona</td>\n",
       "      <td>Basketball</td>\n",
       "      <td>Basketball Men's Basketball</td>\n",
       "      <td>NaN</td>\n",
       "    </tr>\n",
       "    <tr>\n",
       "      <th>1</th>\n",
       "      <td>2</td>\n",
       "      <td>A Lamusi</td>\n",
       "      <td>M</td>\n",
       "      <td>23.0</td>\n",
       "      <td>170.0</td>\n",
       "      <td>60.0</td>\n",
       "      <td>China</td>\n",
       "      <td>CHN</td>\n",
       "      <td>2012 Summer</td>\n",
       "      <td>2012</td>\n",
       "      <td>Summer</td>\n",
       "      <td>London</td>\n",
       "      <td>Judo</td>\n",
       "      <td>Judo Men's Extra-Lightweight</td>\n",
       "      <td>NaN</td>\n",
       "    </tr>\n",
       "    <tr>\n",
       "      <th>2</th>\n",
       "      <td>3</td>\n",
       "      <td>Gunnar Nielsen Aaby</td>\n",
       "      <td>M</td>\n",
       "      <td>24.0</td>\n",
       "      <td>NaN</td>\n",
       "      <td>NaN</td>\n",
       "      <td>Denmark</td>\n",
       "      <td>DEN</td>\n",
       "      <td>1920 Summer</td>\n",
       "      <td>1920</td>\n",
       "      <td>Summer</td>\n",
       "      <td>Antwerpen</td>\n",
       "      <td>Football</td>\n",
       "      <td>Football Men's Football</td>\n",
       "      <td>NaN</td>\n",
       "    </tr>\n",
       "    <tr>\n",
       "      <th>3</th>\n",
       "      <td>4</td>\n",
       "      <td>Edgar Lindenau Aabye</td>\n",
       "      <td>M</td>\n",
       "      <td>34.0</td>\n",
       "      <td>NaN</td>\n",
       "      <td>NaN</td>\n",
       "      <td>Denmark/Sweden</td>\n",
       "      <td>DEN</td>\n",
       "      <td>1900 Summer</td>\n",
       "      <td>1900</td>\n",
       "      <td>Summer</td>\n",
       "      <td>Paris</td>\n",
       "      <td>Tug-Of-War</td>\n",
       "      <td>Tug-Of-War Men's Tug-Of-War</td>\n",
       "      <td>Gold</td>\n",
       "    </tr>\n",
       "    <tr>\n",
       "      <th>4</th>\n",
       "      <td>5</td>\n",
       "      <td>Christine Jacoba Aaftink</td>\n",
       "      <td>F</td>\n",
       "      <td>21.0</td>\n",
       "      <td>185.0</td>\n",
       "      <td>82.0</td>\n",
       "      <td>Netherlands</td>\n",
       "      <td>NED</td>\n",
       "      <td>1988 Winter</td>\n",
       "      <td>1988</td>\n",
       "      <td>Winter</td>\n",
       "      <td>Calgary</td>\n",
       "      <td>Speed Skating</td>\n",
       "      <td>Speed Skating Women's 500 metres</td>\n",
       "      <td>NaN</td>\n",
       "    </tr>\n",
       "  </tbody>\n",
       "</table>\n",
       "</div>"
      ],
      "text/plain": [
       "   ID                      Name Sex   Age  Height  Weight            Team  \\\n",
       "0   1                 A Dijiang   M  24.0   180.0    80.0           China   \n",
       "1   2                  A Lamusi   M  23.0   170.0    60.0           China   \n",
       "2   3       Gunnar Nielsen Aaby   M  24.0     NaN     NaN         Denmark   \n",
       "3   4      Edgar Lindenau Aabye   M  34.0     NaN     NaN  Denmark/Sweden   \n",
       "4   5  Christine Jacoba Aaftink   F  21.0   185.0    82.0     Netherlands   \n",
       "\n",
       "   NOC        Games  Year  Season       City          Sport  \\\n",
       "0  CHN  1992 Summer  1992  Summer  Barcelona     Basketball   \n",
       "1  CHN  2012 Summer  2012  Summer     London           Judo   \n",
       "2  DEN  1920 Summer  1920  Summer  Antwerpen       Football   \n",
       "3  DEN  1900 Summer  1900  Summer      Paris     Tug-Of-War   \n",
       "4  NED  1988 Winter  1988  Winter    Calgary  Speed Skating   \n",
       "\n",
       "                              Event Medal  \n",
       "0       Basketball Men's Basketball   NaN  \n",
       "1      Judo Men's Extra-Lightweight   NaN  \n",
       "2           Football Men's Football   NaN  \n",
       "3       Tug-Of-War Men's Tug-Of-War  Gold  \n",
       "4  Speed Skating Women's 500 metres   NaN  "
      ]
     },
     "execution_count": 3,
     "metadata": {},
     "output_type": "execute_result"
    }
   ],
   "source": [
    "print(df.shape)\n",
    "df.head()"
   ]
  },
  {
   "cell_type": "code",
   "execution_count": 4,
   "metadata": {},
   "outputs": [
    {
     "data": {
      "text/plain": [
       "count        271116\n",
       "unique           66\n",
       "top       Athletics\n",
       "freq          38624\n",
       "Name: Sport, dtype: object"
      ]
     },
     "execution_count": 4,
     "metadata": {},
     "output_type": "execute_result"
    }
   ],
   "source": [
    "df['Sport'].describe()"
   ]
  },
  {
   "cell_type": "code",
   "execution_count": 5,
   "metadata": {},
   "outputs": [
    {
     "data": {
      "text/plain": [
       "0"
      ]
     },
     "execution_count": 5,
     "metadata": {},
     "output_type": "execute_result"
    }
   ],
   "source": [
    "df['Sport'].isnull().sum()"
   ]
  },
  {
   "cell_type": "code",
   "execution_count": 6,
   "metadata": {},
   "outputs": [
    {
     "data": {
      "text/plain": [
       "array([1896, 1900, 1904, 1906, 1908, 1912, 1920, 1924, 1928, 1932, 1936,\n",
       "       1948, 1952, 1956, 1960, 1964, 1968, 1972, 1976, 1980, 1984, 1988,\n",
       "       1992, 1994, 1996, 1998, 2000, 2002, 2004, 2006, 2008, 2010, 2012,\n",
       "       2014, 2016])"
      ]
     },
     "execution_count": 6,
     "metadata": {},
     "output_type": "execute_result"
    }
   ],
   "source": [
    "df['Year'].sort_values().unique()"
   ]
  },
  {
   "cell_type": "code",
   "execution_count": 7,
   "metadata": {},
   "outputs": [
    {
     "data": {
      "text/plain": [
       "35"
      ]
     },
     "execution_count": 7,
     "metadata": {},
     "output_type": "execute_result"
    }
   ],
   "source": [
    "df['Year'].nunique()"
   ]
  },
  {
   "cell_type": "code",
   "execution_count": 8,
   "metadata": {},
   "outputs": [
    {
     "data": {
      "text/plain": [
       "51"
      ]
     },
     "execution_count": 8,
     "metadata": {},
     "output_type": "execute_result"
    }
   ],
   "source": [
    "df['Games'].nunique()"
   ]
  },
  {
   "cell_type": "code",
   "execution_count": 9,
   "metadata": {},
   "outputs": [
    {
     "data": {
      "text/plain": [
       "array(['1896 Summer', '1900 Summer', '1904 Summer', '1906 Summer',\n",
       "       '1908 Summer', '1912 Summer', '1920 Summer', '1924 Summer',\n",
       "       '1924 Winter', '1928 Summer', '1928 Winter', '1932 Summer',\n",
       "       '1932 Winter', '1936 Summer', '1936 Winter', '1948 Summer',\n",
       "       '1948 Winter', '1952 Summer', '1952 Winter', '1956 Summer',\n",
       "       '1956 Winter', '1960 Summer', '1960 Winter', '1964 Summer',\n",
       "       '1964 Winter', '1968 Summer', '1968 Winter', '1972 Summer',\n",
       "       '1972 Winter', '1976 Summer', '1976 Winter', '1980 Summer',\n",
       "       '1980 Winter', '1984 Summer', '1984 Winter', '1988 Summer',\n",
       "       '1988 Winter', '1992 Summer', '1992 Winter', '1994 Winter',\n",
       "       '1996 Summer', '1998 Winter', '2000 Summer', '2002 Winter',\n",
       "       '2004 Summer', '2006 Winter', '2008 Summer', '2010 Winter',\n",
       "       '2012 Summer', '2014 Winter', '2016 Summer'], dtype=object)"
      ]
     },
     "execution_count": 9,
     "metadata": {},
     "output_type": "execute_result"
    }
   ],
   "source": [
    "df['Games'].sort_values().unique()"
   ]
  },
  {
   "cell_type": "code",
   "execution_count": 10,
   "metadata": {},
   "outputs": [
    {
     "data": {
      "text/html": [
       "<div>\n",
       "<style scoped>\n",
       "    .dataframe tbody tr th:only-of-type {\n",
       "        vertical-align: middle;\n",
       "    }\n",
       "\n",
       "    .dataframe tbody tr th {\n",
       "        vertical-align: top;\n",
       "    }\n",
       "\n",
       "    .dataframe thead th {\n",
       "        text-align: right;\n",
       "    }\n",
       "</style>\n",
       "<table border=\"1\" class=\"dataframe\">\n",
       "  <thead>\n",
       "    <tr style=\"text-align: right;\">\n",
       "      <th></th>\n",
       "      <th>ID</th>\n",
       "      <th>Name</th>\n",
       "      <th>Sex</th>\n",
       "      <th>Age</th>\n",
       "      <th>Height</th>\n",
       "      <th>Weight</th>\n",
       "      <th>Team</th>\n",
       "      <th>NOC</th>\n",
       "      <th>Games</th>\n",
       "      <th>Year</th>\n",
       "      <th>Season</th>\n",
       "      <th>City</th>\n",
       "      <th>Sport</th>\n",
       "      <th>Event</th>\n",
       "      <th>Medal</th>\n",
       "    </tr>\n",
       "  </thead>\n",
       "  <tbody>\n",
       "    <tr>\n",
       "      <th>57547</th>\n",
       "      <td>29479</td>\n",
       "      <td>Gustave Doret</td>\n",
       "      <td>M</td>\n",
       "      <td>45.0</td>\n",
       "      <td>NaN</td>\n",
       "      <td>NaN</td>\n",
       "      <td>Switzerland</td>\n",
       "      <td>SUI</td>\n",
       "      <td>1912 Summer</td>\n",
       "      <td>1912</td>\n",
       "      <td>Summer</td>\n",
       "      <td>Stockholm</td>\n",
       "      <td>Art Competitions</td>\n",
       "      <td>Art Competitions Mixed Music</td>\n",
       "      <td>NaN</td>\n",
       "    </tr>\n",
       "    <tr>\n",
       "      <th>106511</th>\n",
       "      <td>53869</td>\n",
       "      <td>mile Jaques-Dalcroze</td>\n",
       "      <td>M</td>\n",
       "      <td>46.0</td>\n",
       "      <td>NaN</td>\n",
       "      <td>NaN</td>\n",
       "      <td>Switzerland</td>\n",
       "      <td>SUI</td>\n",
       "      <td>1912 Summer</td>\n",
       "      <td>1912</td>\n",
       "      <td>Summer</td>\n",
       "      <td>Stockholm</td>\n",
       "      <td>Art Competitions</td>\n",
       "      <td>Art Competitions Mixed Music</td>\n",
       "      <td>NaN</td>\n",
       "    </tr>\n",
       "    <tr>\n",
       "      <th>14719</th>\n",
       "      <td>7938</td>\n",
       "      <td>Ethel Susan Barnard</td>\n",
       "      <td>M</td>\n",
       "      <td>NaN</td>\n",
       "      <td>NaN</td>\n",
       "      <td>NaN</td>\n",
       "      <td>Great Britain</td>\n",
       "      <td>GBR</td>\n",
       "      <td>1912 Summer</td>\n",
       "      <td>1912</td>\n",
       "      <td>Summer</td>\n",
       "      <td>Stockholm</td>\n",
       "      <td>Art Competitions</td>\n",
       "      <td>Art Competitions Mixed Music</td>\n",
       "      <td>NaN</td>\n",
       "    </tr>\n",
       "    <tr>\n",
       "      <th>15324</th>\n",
       "      <td>8272</td>\n",
       "      <td>Richard Barthlemy</td>\n",
       "      <td>M</td>\n",
       "      <td>NaN</td>\n",
       "      <td>NaN</td>\n",
       "      <td>NaN</td>\n",
       "      <td>Italy</td>\n",
       "      <td>ITA</td>\n",
       "      <td>1912 Summer</td>\n",
       "      <td>1912</td>\n",
       "      <td>Summer</td>\n",
       "      <td>Stockholm</td>\n",
       "      <td>Art Competitions</td>\n",
       "      <td>Art Competitions Mixed Music</td>\n",
       "      <td>Gold</td>\n",
       "    </tr>\n",
       "    <tr>\n",
       "      <th>262198</th>\n",
       "      <td>131186</td>\n",
       "      <td>Antoni Wiwulski</td>\n",
       "      <td>M</td>\n",
       "      <td>35.0</td>\n",
       "      <td>NaN</td>\n",
       "      <td>NaN</td>\n",
       "      <td>Poland</td>\n",
       "      <td>POL</td>\n",
       "      <td>1912 Summer</td>\n",
       "      <td>1912</td>\n",
       "      <td>Summer</td>\n",
       "      <td>Stockholm</td>\n",
       "      <td>Art Competitions</td>\n",
       "      <td>Art Competitions Mixed Sculpturing</td>\n",
       "      <td>NaN</td>\n",
       "    </tr>\n",
       "    <tr>\n",
       "      <th>...</th>\n",
       "      <td>...</td>\n",
       "      <td>...</td>\n",
       "      <td>...</td>\n",
       "      <td>...</td>\n",
       "      <td>...</td>\n",
       "      <td>...</td>\n",
       "      <td>...</td>\n",
       "      <td>...</td>\n",
       "      <td>...</td>\n",
       "      <td>...</td>\n",
       "      <td>...</td>\n",
       "      <td>...</td>\n",
       "      <td>...</td>\n",
       "      <td>...</td>\n",
       "      <td>...</td>\n",
       "    </tr>\n",
       "    <tr>\n",
       "      <th>97223</th>\n",
       "      <td>49209</td>\n",
       "      <td>Otto Karl Hofner</td>\n",
       "      <td>M</td>\n",
       "      <td>69.0</td>\n",
       "      <td>NaN</td>\n",
       "      <td>NaN</td>\n",
       "      <td>Austria</td>\n",
       "      <td>AUT</td>\n",
       "      <td>1948 Summer</td>\n",
       "      <td>1948</td>\n",
       "      <td>Summer</td>\n",
       "      <td>London</td>\n",
       "      <td>Art Competitions</td>\n",
       "      <td>Art Competitions Mixed Sculpturing, Unknown Event</td>\n",
       "      <td>NaN</td>\n",
       "    </tr>\n",
       "    <tr>\n",
       "      <th>226776</th>\n",
       "      <td>113952</td>\n",
       "      <td>Abraham Sprachman</td>\n",
       "      <td>M</td>\n",
       "      <td>52.0</td>\n",
       "      <td>NaN</td>\n",
       "      <td>NaN</td>\n",
       "      <td>Canada</td>\n",
       "      <td>CAN</td>\n",
       "      <td>1948 Summer</td>\n",
       "      <td>1948</td>\n",
       "      <td>Summer</td>\n",
       "      <td>London</td>\n",
       "      <td>Art Competitions</td>\n",
       "      <td>Art Competitions Mixed Architecture, Unknown E...</td>\n",
       "      <td>NaN</td>\n",
       "    </tr>\n",
       "    <tr>\n",
       "      <th>96843</th>\n",
       "      <td>49037</td>\n",
       "      <td>V. Robinson Hodge</td>\n",
       "      <td>M</td>\n",
       "      <td>NaN</td>\n",
       "      <td>NaN</td>\n",
       "      <td>NaN</td>\n",
       "      <td>Great Britain</td>\n",
       "      <td>GBR</td>\n",
       "      <td>1948 Summer</td>\n",
       "      <td>1948</td>\n",
       "      <td>Summer</td>\n",
       "      <td>London</td>\n",
       "      <td>Art Competitions</td>\n",
       "      <td>Art Competitions Mixed Sculpturing, Unknown Event</td>\n",
       "      <td>NaN</td>\n",
       "    </tr>\n",
       "    <tr>\n",
       "      <th>224975</th>\n",
       "      <td>113025</td>\n",
       "      <td>Harry Stewart Somers</td>\n",
       "      <td>M</td>\n",
       "      <td>22.0</td>\n",
       "      <td>NaN</td>\n",
       "      <td>NaN</td>\n",
       "      <td>Canada</td>\n",
       "      <td>CAN</td>\n",
       "      <td>1948 Summer</td>\n",
       "      <td>1948</td>\n",
       "      <td>Summer</td>\n",
       "      <td>London</td>\n",
       "      <td>Art Competitions</td>\n",
       "      <td>Art Competitions Mixed Music, Instrumental And...</td>\n",
       "      <td>NaN</td>\n",
       "    </tr>\n",
       "    <tr>\n",
       "      <th>58</th>\n",
       "      <td>19</td>\n",
       "      <td>Win Valdemar Aaltonen</td>\n",
       "      <td>M</td>\n",
       "      <td>54.0</td>\n",
       "      <td>NaN</td>\n",
       "      <td>NaN</td>\n",
       "      <td>Finland</td>\n",
       "      <td>FIN</td>\n",
       "      <td>1948 Summer</td>\n",
       "      <td>1948</td>\n",
       "      <td>Summer</td>\n",
       "      <td>London</td>\n",
       "      <td>Art Competitions</td>\n",
       "      <td>Art Competitions Mixed Sculpturing, Unknown Event</td>\n",
       "      <td>NaN</td>\n",
       "    </tr>\n",
       "  </tbody>\n",
       "</table>\n",
       "<p>3578 rows × 15 columns</p>\n",
       "</div>"
      ],
      "text/plain": [
       "            ID                   Name Sex   Age  Height  Weight  \\\n",
       "57547    29479          Gustave Doret   M  45.0     NaN     NaN   \n",
       "106511   53869   mile Jaques-Dalcroze   M  46.0     NaN     NaN   \n",
       "14719     7938    Ethel Susan Barnard   M   NaN     NaN     NaN   \n",
       "15324     8272      Richard Barthlemy   M   NaN     NaN     NaN   \n",
       "262198  131186        Antoni Wiwulski   M  35.0     NaN     NaN   \n",
       "...        ...                    ...  ..   ...     ...     ...   \n",
       "97223    49209       Otto Karl Hofner   M  69.0     NaN     NaN   \n",
       "226776  113952      Abraham Sprachman   M  52.0     NaN     NaN   \n",
       "96843    49037      V. Robinson Hodge   M   NaN     NaN     NaN   \n",
       "224975  113025   Harry Stewart Somers   M  22.0     NaN     NaN   \n",
       "58          19  Win Valdemar Aaltonen   M  54.0     NaN     NaN   \n",
       "\n",
       "                 Team  NOC        Games  Year  Season       City  \\\n",
       "57547     Switzerland  SUI  1912 Summer  1912  Summer  Stockholm   \n",
       "106511    Switzerland  SUI  1912 Summer  1912  Summer  Stockholm   \n",
       "14719   Great Britain  GBR  1912 Summer  1912  Summer  Stockholm   \n",
       "15324           Italy  ITA  1912 Summer  1912  Summer  Stockholm   \n",
       "262198         Poland  POL  1912 Summer  1912  Summer  Stockholm   \n",
       "...               ...  ...          ...   ...     ...        ...   \n",
       "97223         Austria  AUT  1948 Summer  1948  Summer     London   \n",
       "226776         Canada  CAN  1948 Summer  1948  Summer     London   \n",
       "96843   Great Britain  GBR  1948 Summer  1948  Summer     London   \n",
       "224975         Canada  CAN  1948 Summer  1948  Summer     London   \n",
       "58            Finland  FIN  1948 Summer  1948  Summer     London   \n",
       "\n",
       "                   Sport                                              Event  \\\n",
       "57547   Art Competitions                       Art Competitions Mixed Music   \n",
       "106511  Art Competitions                       Art Competitions Mixed Music   \n",
       "14719   Art Competitions                       Art Competitions Mixed Music   \n",
       "15324   Art Competitions                       Art Competitions Mixed Music   \n",
       "262198  Art Competitions                 Art Competitions Mixed Sculpturing   \n",
       "...                  ...                                                ...   \n",
       "97223   Art Competitions  Art Competitions Mixed Sculpturing, Unknown Event   \n",
       "226776  Art Competitions  Art Competitions Mixed Architecture, Unknown E...   \n",
       "96843   Art Competitions  Art Competitions Mixed Sculpturing, Unknown Event   \n",
       "224975  Art Competitions  Art Competitions Mixed Music, Instrumental And...   \n",
       "58      Art Competitions  Art Competitions Mixed Sculpturing, Unknown Event   \n",
       "\n",
       "       Medal  \n",
       "57547    NaN  \n",
       "106511   NaN  \n",
       "14719    NaN  \n",
       "15324   Gold  \n",
       "262198   NaN  \n",
       "...      ...  \n",
       "97223    NaN  \n",
       "226776   NaN  \n",
       "96843    NaN  \n",
       "224975   NaN  \n",
       "58       NaN  \n",
       "\n",
       "[3578 rows x 15 columns]"
      ]
     },
     "execution_count": 10,
     "metadata": {},
     "output_type": "execute_result"
    }
   ],
   "source": [
    "df[df['Sport']=='Art Competitions'].sort_values(by = 'Year')"
   ]
  },
  {
   "cell_type": "code",
   "execution_count": 11,
   "metadata": {},
   "outputs": [
    {
     "data": {
      "text/plain": [
       "Sport\n",
       "Aeronautics            1\n",
       "Alpine Skiing        428\n",
       "Alpinism              25\n",
       "Archery              353\n",
       "Art Competitions     156\n",
       "                    ... \n",
       "Tug-Of-War           115\n",
       "Volleyball           969\n",
       "Water Polo          1057\n",
       "Weightlifting        646\n",
       "Wrestling           1296\n",
       "Name: Medal, Length: 66, dtype: int64"
      ]
     },
     "execution_count": 11,
     "metadata": {},
     "output_type": "execute_result"
    }
   ],
   "source": [
    "df.groupby('Sport')['Medal'].count()"
   ]
  },
  {
   "cell_type": "code",
   "execution_count": 12,
   "metadata": {},
   "outputs": [
    {
     "data": {
      "text/plain": [
       "Athletics                    38624\n",
       "Gymnastics                   26707\n",
       "Swimming                     23195\n",
       "Shooting                     11448\n",
       "Cycling                      10859\n",
       "Fencing                      10735\n",
       "Rowing                       10595\n",
       "Cross Country Skiing          9133\n",
       "Alpine Skiing                 8829\n",
       "Wrestling                     7154\n",
       "Football                      6745\n",
       "Sailing                       6586\n",
       "Equestrianism                 6344\n",
       "Canoeing                      6171\n",
       "Boxing                        6047\n",
       "Speed Skating                 5613\n",
       "Ice Hockey                    5516\n",
       "Hockey                        5417\n",
       "Biathlon                      4893\n",
       "Basketball                    4536\n",
       "Weightlifting                 3937\n",
       "Water Polo                    3846\n",
       "Judo                          3801\n",
       "Handball                      3665\n",
       "Art Competitions              3578\n",
       "Volleyball                    3404\n",
       "Bobsleigh                     3058\n",
       "Tennis                        2862\n",
       "Diving                        2842\n",
       "Ski Jumping                   2401\n",
       "Archery                       2334\n",
       "Figure Skating                2298\n",
       "Table Tennis                  1955\n",
       "Modern Pentathlon             1677\n",
       "Short Track Speed Skating     1534\n",
       "Luge                          1479\n",
       "Badminton                     1457\n",
       "Nordic Combined               1344\n",
       "Freestyle Skiing               937\n",
       "Snowboarding                   936\n",
       "Synchronized Swimming          909\n",
       "Baseball                       894\n",
       "Rhythmic Gymnastics            658\n",
       "Taekwondo                      606\n",
       "Beach Volleyball               564\n",
       "Triathlon                      529\n",
       "Softball                       478\n",
       "Curling                        463\n",
       "Rugby Sevens                   299\n",
       "Golf                           247\n",
       "Skeleton                       199\n",
       "Tug-Of-War                     170\n",
       "Rugby                          162\n",
       "Trampolining                   152\n",
       "Polo                            95\n",
       "Lacrosse                        60\n",
       "Alpinism                        25\n",
       "Military Ski Patrol             24\n",
       "Cricket                         24\n",
       "Croquet                         19\n",
       "Motorboating                    17\n",
       "Racquets                        12\n",
       "Jeu De Paume                    11\n",
       "Roque                            4\n",
       "Basque Pelota                    2\n",
       "Aeronautics                      1\n",
       "Name: Sport, dtype: int64"
      ]
     },
     "execution_count": 12,
     "metadata": {},
     "output_type": "execute_result"
    }
   ],
   "source": [
    "pd.set_option('display.max_rows', 66)\n",
    "df['Sport'].value_counts()"
   ]
  },
  {
   "cell_type": "code",
   "execution_count": 13,
   "metadata": {},
   "outputs": [
    {
     "data": {
      "text/plain": [
       "ID             0\n",
       "Name           0\n",
       "Sex            0\n",
       "Age         9474\n",
       "Height     60171\n",
       "Weight     62875\n",
       "Team           0\n",
       "NOC            0\n",
       "Games          0\n",
       "Year           0\n",
       "Season         0\n",
       "City           0\n",
       "Sport          0\n",
       "Event          0\n",
       "Medal     231333\n",
       "dtype: int64"
      ]
     },
     "execution_count": 13,
     "metadata": {},
     "output_type": "execute_result"
    }
   ],
   "source": [
    "df.isnull().sum()"
   ]
  },
  {
   "cell_type": "code",
   "execution_count": 14,
   "metadata": {},
   "outputs": [],
   "source": [
    "df = df.dropna()"
   ]
  },
  {
   "cell_type": "code",
   "execution_count": 15,
   "metadata": {},
   "outputs": [
    {
     "data": {
      "text/plain": [
       "55"
      ]
     },
     "execution_count": 15,
     "metadata": {},
     "output_type": "execute_result"
    }
   ],
   "source": [
    "y = df['Sport']\n",
    "y.nunique()"
   ]
  },
  {
   "cell_type": "code",
   "execution_count": 16,
   "metadata": {},
   "outputs": [
    {
     "data": {
      "text/plain": [
       "Athletics                    0.120871\n",
       "Swimming                     0.082370\n",
       "Rowing                       0.069713\n",
       "Ice Hockey                   0.043107\n",
       "Hockey                       0.038700\n",
       "Gymnastics                   0.038468\n",
       "Fencing                      0.036745\n",
       "Football                     0.035917\n",
       "Canoeing                     0.034492\n",
       "Basketball                   0.033133\n",
       "Wrestling                    0.032040\n",
       "Volleyball                   0.031742\n",
       "Handball                     0.031046\n",
       "Cycling                      0.027998\n",
       "Water Polo                   0.025314\n",
       "Boxing                       0.023458\n",
       "Cross Country Skiing         0.022763\n",
       "Sailing                      0.022431\n",
       "Equestrianism                0.021967\n",
       "Shooting                     0.017958\n",
       "Weightlifting                0.017627\n",
       "Judo                         0.017428\n",
       "Speed Skating                0.016169\n",
       "Biathlon                     0.012856\n",
       "Alpine Skiing                0.011729\n",
       "Baseball                     0.011033\n",
       "Diving                       0.010536\n",
       "Bobsleigh                    0.009377\n",
       "Short Track Speed Skating    0.009079\n",
       "Figure Skating               0.008250\n",
       "Synchronized Swimming        0.007091\n",
       "Archery                      0.006825\n",
       "Luge                         0.005898\n",
       "Ski Jumping                  0.005798\n",
       "Tennis                       0.005732\n",
       "Softball                     0.005699\n",
       "Table Tennis                 0.005401\n",
       "Badminton                    0.005103\n",
       "Modern Pentathlon            0.005069\n",
       "Taekwondo                    0.004771\n",
       "Nordic Combined              0.004539\n",
       "Curling                      0.004340\n",
       "Rhythmic Gymnastics          0.004109\n",
       "Freestyle Skiing             0.003380\n",
       "Snowboarding                 0.002949\n",
       "Rugby Sevens                 0.002452\n",
       "Beach Volleyball             0.002253\n",
       "Rugby                        0.000994\n",
       "Triathlon                    0.000994\n",
       "Trampolining                 0.000961\n",
       "Skeleton                     0.000795\n",
       "Tug-Of-War                   0.000265\n",
       "Golf                         0.000133\n",
       "Art Competitions             0.000066\n",
       "Lacrosse                     0.000066\n",
       "Name: Sport, dtype: float64"
      ]
     },
     "execution_count": 16,
     "metadata": {},
     "output_type": "execute_result"
    }
   ],
   "source": [
    "y.value_counts(normalize = True)"
   ]
  },
  {
   "cell_type": "code",
   "execution_count": 17,
   "metadata": {},
   "outputs": [
    {
     "data": {
      "text/plain": [
       "ID        0\n",
       "Name      0\n",
       "Sex       0\n",
       "Age       0\n",
       "Height    0\n",
       "Weight    0\n",
       "Team      0\n",
       "NOC       0\n",
       "Games     0\n",
       "Year      0\n",
       "Season    0\n",
       "City      0\n",
       "Sport     0\n",
       "Event     0\n",
       "Medal     0\n",
       "dtype: int64"
      ]
     },
     "execution_count": 17,
     "metadata": {},
     "output_type": "execute_result"
    }
   ],
   "source": [
    "df.isnull().sum()"
   ]
  },
  {
   "cell_type": "code",
   "execution_count": 18,
   "metadata": {},
   "outputs": [
    {
     "data": {
      "text/plain": [
       "3"
      ]
     },
     "execution_count": 18,
     "metadata": {},
     "output_type": "execute_result"
    }
   ],
   "source": [
    "df['Medal'].nunique()"
   ]
  },
  {
   "cell_type": "code",
   "execution_count": 19,
   "metadata": {},
   "outputs": [
    {
     "data": {
      "text/plain": [
       "55"
      ]
     },
     "execution_count": 19,
     "metadata": {},
     "output_type": "execute_result"
    }
   ],
   "source": [
    "df['Sport'].nunique()"
   ]
  },
  {
   "cell_type": "code",
   "execution_count": 20,
   "metadata": {},
   "outputs": [
    {
     "data": {
      "text/plain": [
       "(30181, 15)"
      ]
     },
     "execution_count": 20,
     "metadata": {},
     "output_type": "execute_result"
    }
   ],
   "source": [
    "df.shape"
   ]
  },
  {
   "cell_type": "code",
   "execution_count": 21,
   "metadata": {},
   "outputs": [
    {
     "data": {
      "text/html": [
       "<div>\n",
       "<style scoped>\n",
       "    .dataframe tbody tr th:only-of-type {\n",
       "        vertical-align: middle;\n",
       "    }\n",
       "\n",
       "    .dataframe tbody tr th {\n",
       "        vertical-align: top;\n",
       "    }\n",
       "\n",
       "    .dataframe thead th {\n",
       "        text-align: right;\n",
       "    }\n",
       "</style>\n",
       "<table border=\"1\" class=\"dataframe\">\n",
       "  <thead>\n",
       "    <tr style=\"text-align: right;\">\n",
       "      <th></th>\n",
       "      <th>ID</th>\n",
       "      <th>Name</th>\n",
       "      <th>Sex</th>\n",
       "      <th>Age</th>\n",
       "      <th>Height</th>\n",
       "      <th>Weight</th>\n",
       "      <th>Team</th>\n",
       "      <th>NOC</th>\n",
       "      <th>Games</th>\n",
       "      <th>Year</th>\n",
       "      <th>Season</th>\n",
       "      <th>City</th>\n",
       "      <th>Sport</th>\n",
       "      <th>Event</th>\n",
       "      <th>Medal</th>\n",
       "    </tr>\n",
       "  </thead>\n",
       "  <tbody>\n",
       "    <tr>\n",
       "      <th>40</th>\n",
       "      <td>16</td>\n",
       "      <td>Juhamatti Tapio Aaltonen</td>\n",
       "      <td>M</td>\n",
       "      <td>28.0</td>\n",
       "      <td>184.0</td>\n",
       "      <td>85.0</td>\n",
       "      <td>Finland</td>\n",
       "      <td>FIN</td>\n",
       "      <td>2014 Winter</td>\n",
       "      <td>2014</td>\n",
       "      <td>Winter</td>\n",
       "      <td>Sochi</td>\n",
       "      <td>Ice Hockey</td>\n",
       "      <td>Ice Hockey Men's Ice Hockey</td>\n",
       "      <td>Bronze</td>\n",
       "    </tr>\n",
       "    <tr>\n",
       "      <th>41</th>\n",
       "      <td>17</td>\n",
       "      <td>Paavo Johannes Aaltonen</td>\n",
       "      <td>M</td>\n",
       "      <td>28.0</td>\n",
       "      <td>175.0</td>\n",
       "      <td>64.0</td>\n",
       "      <td>Finland</td>\n",
       "      <td>FIN</td>\n",
       "      <td>1948 Summer</td>\n",
       "      <td>1948</td>\n",
       "      <td>Summer</td>\n",
       "      <td>London</td>\n",
       "      <td>Gymnastics</td>\n",
       "      <td>Gymnastics Men's Individual All-Around</td>\n",
       "      <td>Bronze</td>\n",
       "    </tr>\n",
       "    <tr>\n",
       "      <th>42</th>\n",
       "      <td>17</td>\n",
       "      <td>Paavo Johannes Aaltonen</td>\n",
       "      <td>M</td>\n",
       "      <td>28.0</td>\n",
       "      <td>175.0</td>\n",
       "      <td>64.0</td>\n",
       "      <td>Finland</td>\n",
       "      <td>FIN</td>\n",
       "      <td>1948 Summer</td>\n",
       "      <td>1948</td>\n",
       "      <td>Summer</td>\n",
       "      <td>London</td>\n",
       "      <td>Gymnastics</td>\n",
       "      <td>Gymnastics Men's Team All-Around</td>\n",
       "      <td>Gold</td>\n",
       "    </tr>\n",
       "    <tr>\n",
       "      <th>44</th>\n",
       "      <td>17</td>\n",
       "      <td>Paavo Johannes Aaltonen</td>\n",
       "      <td>M</td>\n",
       "      <td>28.0</td>\n",
       "      <td>175.0</td>\n",
       "      <td>64.0</td>\n",
       "      <td>Finland</td>\n",
       "      <td>FIN</td>\n",
       "      <td>1948 Summer</td>\n",
       "      <td>1948</td>\n",
       "      <td>Summer</td>\n",
       "      <td>London</td>\n",
       "      <td>Gymnastics</td>\n",
       "      <td>Gymnastics Men's Horse Vault</td>\n",
       "      <td>Gold</td>\n",
       "    </tr>\n",
       "    <tr>\n",
       "      <th>48</th>\n",
       "      <td>17</td>\n",
       "      <td>Paavo Johannes Aaltonen</td>\n",
       "      <td>M</td>\n",
       "      <td>28.0</td>\n",
       "      <td>175.0</td>\n",
       "      <td>64.0</td>\n",
       "      <td>Finland</td>\n",
       "      <td>FIN</td>\n",
       "      <td>1948 Summer</td>\n",
       "      <td>1948</td>\n",
       "      <td>Summer</td>\n",
       "      <td>London</td>\n",
       "      <td>Gymnastics</td>\n",
       "      <td>Gymnastics Men's Pommelled Horse</td>\n",
       "      <td>Gold</td>\n",
       "    </tr>\n",
       "  </tbody>\n",
       "</table>\n",
       "</div>"
      ],
      "text/plain": [
       "    ID                      Name Sex   Age  Height  Weight     Team  NOC  \\\n",
       "40  16  Juhamatti Tapio Aaltonen   M  28.0   184.0    85.0  Finland  FIN   \n",
       "41  17   Paavo Johannes Aaltonen   M  28.0   175.0    64.0  Finland  FIN   \n",
       "42  17   Paavo Johannes Aaltonen   M  28.0   175.0    64.0  Finland  FIN   \n",
       "44  17   Paavo Johannes Aaltonen   M  28.0   175.0    64.0  Finland  FIN   \n",
       "48  17   Paavo Johannes Aaltonen   M  28.0   175.0    64.0  Finland  FIN   \n",
       "\n",
       "          Games  Year  Season    City       Sport  \\\n",
       "40  2014 Winter  2014  Winter   Sochi  Ice Hockey   \n",
       "41  1948 Summer  1948  Summer  London  Gymnastics   \n",
       "42  1948 Summer  1948  Summer  London  Gymnastics   \n",
       "44  1948 Summer  1948  Summer  London  Gymnastics   \n",
       "48  1948 Summer  1948  Summer  London  Gymnastics   \n",
       "\n",
       "                                     Event   Medal  \n",
       "40             Ice Hockey Men's Ice Hockey  Bronze  \n",
       "41  Gymnastics Men's Individual All-Around  Bronze  \n",
       "42        Gymnastics Men's Team All-Around    Gold  \n",
       "44            Gymnastics Men's Horse Vault    Gold  \n",
       "48        Gymnastics Men's Pommelled Horse    Gold  "
      ]
     },
     "execution_count": 21,
     "metadata": {},
     "output_type": "execute_result"
    }
   ],
   "source": [
    "df.head()"
   ]
  },
  {
   "cell_type": "code",
   "execution_count": 22,
   "metadata": {},
   "outputs": [],
   "source": [
    "# Reduce cardinality for sport feature ...\n",
    "df = df[~df['Sport'].isin(['Modern Pentathlon','Curling',\n",
    "       'Rhythmic Gymnastics', 'Freestyle Skiing', 'Snowboarding',\n",
    "       'Rugby Sevens', 'Beach Volleyball', 'Rugby', 'Triathlon',\n",
    "       'Trampolining', 'Skeleton', 'Tug-Of-War', 'Golf', 'Art Competitions',\n",
    "       'Lacrosse', 'Military Ski Patrol', 'Aeronautics', 'Racquets', 'Jeu De Paume', 'Roque','Basque Pelota',\n",
    "       'Croquet', 'Cricket', 'Alpinism', 'Motorboating'])]\n",
    "#sport = df.copy()\n",
    "# Get a list of the top 45 sports\n",
    "#top45 = df['Sport'].value_counts()[:45].index\n",
    "#top45"
   ]
  },
  {
   "cell_type": "code",
   "execution_count": 23,
   "metadata": {},
   "outputs": [
    {
     "data": {
      "text/plain": [
       "Athletics                    0.124458\n",
       "Swimming                     0.084815\n",
       "Rowing                       0.071782\n",
       "Ice Hockey                   0.044386\n",
       "Hockey                       0.039849\n",
       "Gymnastics                   0.039610\n",
       "Fencing                      0.037836\n",
       "Football                     0.036983\n",
       "Canoeing                     0.035516\n",
       "Basketball                   0.034117\n",
       "Wrestling                    0.032991\n",
       "Volleyball                   0.032684\n",
       "Handball                     0.031968\n",
       "Cycling                      0.028829\n",
       "Water Polo                   0.026065\n",
       "Boxing                       0.024155\n",
       "Cross Country Skiing         0.023438\n",
       "Sailing                      0.023097\n",
       "Equestrianism                0.022619\n",
       "Shooting                     0.018491\n",
       "Weightlifting                0.018150\n",
       "Judo                         0.017945\n",
       "Speed Skating                0.016649\n",
       "Biathlon                     0.013237\n",
       "Alpine Skiing                0.012077\n",
       "Baseball                     0.011361\n",
       "Diving                       0.010849\n",
       "Bobsleigh                    0.009655\n",
       "Short Track Speed Skating    0.009348\n",
       "Figure Skating               0.008495\n",
       "Synchronized Swimming        0.007301\n",
       "Archery                      0.007028\n",
       "Luge                         0.006073\n",
       "Ski Jumping                  0.005970\n",
       "Tennis                       0.005902\n",
       "Softball                     0.005868\n",
       "Table Tennis                 0.005561\n",
       "Badminton                    0.005254\n",
       "Taekwondo                    0.004913\n",
       "Nordic Combined              0.004674\n",
       "Name: Sport, dtype: float64"
      ]
     },
     "execution_count": 23,
     "metadata": {},
     "output_type": "execute_result"
    }
   ],
   "source": [
    "df['Sport'].value_counts(normalize = True)"
   ]
  },
  {
   "cell_type": "code",
   "execution_count": 24,
   "metadata": {},
   "outputs": [
    {
     "name": "stdout",
     "output_type": "stream",
     "text": [
      "(29311, 7)\n"
     ]
    },
    {
     "data": {
      "text/html": [
       "<div>\n",
       "<style scoped>\n",
       "    .dataframe tbody tr th:only-of-type {\n",
       "        vertical-align: middle;\n",
       "    }\n",
       "\n",
       "    .dataframe tbody tr th {\n",
       "        vertical-align: top;\n",
       "    }\n",
       "\n",
       "    .dataframe thead th {\n",
       "        text-align: right;\n",
       "    }\n",
       "</style>\n",
       "<table border=\"1\" class=\"dataframe\">\n",
       "  <thead>\n",
       "    <tr style=\"text-align: right;\">\n",
       "      <th></th>\n",
       "      <th>Sex</th>\n",
       "      <th>Age</th>\n",
       "      <th>Sport</th>\n",
       "      <th>Height</th>\n",
       "      <th>Weight</th>\n",
       "      <th>Year</th>\n",
       "      <th>Season</th>\n",
       "    </tr>\n",
       "  </thead>\n",
       "  <tbody>\n",
       "    <tr>\n",
       "      <th>40</th>\n",
       "      <td>M</td>\n",
       "      <td>28.0</td>\n",
       "      <td>Ice Hockey</td>\n",
       "      <td>184.0</td>\n",
       "      <td>85.0</td>\n",
       "      <td>2014</td>\n",
       "      <td>Winter</td>\n",
       "    </tr>\n",
       "    <tr>\n",
       "      <th>41</th>\n",
       "      <td>M</td>\n",
       "      <td>28.0</td>\n",
       "      <td>Gymnastics</td>\n",
       "      <td>175.0</td>\n",
       "      <td>64.0</td>\n",
       "      <td>1948</td>\n",
       "      <td>Summer</td>\n",
       "    </tr>\n",
       "    <tr>\n",
       "      <th>42</th>\n",
       "      <td>M</td>\n",
       "      <td>28.0</td>\n",
       "      <td>Gymnastics</td>\n",
       "      <td>175.0</td>\n",
       "      <td>64.0</td>\n",
       "      <td>1948</td>\n",
       "      <td>Summer</td>\n",
       "    </tr>\n",
       "    <tr>\n",
       "      <th>44</th>\n",
       "      <td>M</td>\n",
       "      <td>28.0</td>\n",
       "      <td>Gymnastics</td>\n",
       "      <td>175.0</td>\n",
       "      <td>64.0</td>\n",
       "      <td>1948</td>\n",
       "      <td>Summer</td>\n",
       "    </tr>\n",
       "    <tr>\n",
       "      <th>48</th>\n",
       "      <td>M</td>\n",
       "      <td>28.0</td>\n",
       "      <td>Gymnastics</td>\n",
       "      <td>175.0</td>\n",
       "      <td>64.0</td>\n",
       "      <td>1948</td>\n",
       "      <td>Summer</td>\n",
       "    </tr>\n",
       "  </tbody>\n",
       "</table>\n",
       "</div>"
      ],
      "text/plain": [
       "   Sex   Age       Sport  Height  Weight  Year  Season\n",
       "40   M  28.0  Ice Hockey   184.0    85.0  2014  Winter\n",
       "41   M  28.0  Gymnastics   175.0    64.0  1948  Summer\n",
       "42   M  28.0  Gymnastics   175.0    64.0  1948  Summer\n",
       "44   M  28.0  Gymnastics   175.0    64.0  1948  Summer\n",
       "48   M  28.0  Gymnastics   175.0    64.0  1948  Summer"
      ]
     },
     "execution_count": 24,
     "metadata": {},
     "output_type": "execute_result"
    }
   ],
   "source": [
    "df = df[['Sex', 'Age','Sport','Height', 'Weight', 'Year','Season']]\n",
    "print(df.shape)\n",
    "df.head()"
   ]
  },
  {
   "cell_type": "code",
   "execution_count": 25,
   "metadata": {},
   "outputs": [
    {
     "name": "stdout",
     "output_type": "stream",
     "text": [
      "(23448, 7) (5863, 7)\n"
     ]
    }
   ],
   "source": [
    "#Split the data into train/test randomly\n",
    "from sklearn.model_selection import train_test_split\n",
    "\n",
    "train, test = train_test_split(df, test_size = 0.2, random_state=42)\n",
    "print(train.shape, test.shape)"
   ]
  },
  {
   "cell_type": "code",
   "execution_count": 26,
   "metadata": {},
   "outputs": [
    {
     "data": {
      "text/plain": [
       "((18758, 7), (4690, 7), (5863, 7))"
      ]
     },
     "execution_count": 26,
     "metadata": {},
     "output_type": "execute_result"
    }
   ],
   "source": [
    "# Split train into train & val\n",
    "\n",
    "train, val = train_test_split(train, train_size=0.80, test_size=0.20, \n",
    "                              random_state=42)\n",
    "train.shape, val.shape, test.shape"
   ]
  },
  {
   "cell_type": "code",
   "execution_count": 50,
   "metadata": {},
   "outputs": [
    {
     "name": "stdout",
     "output_type": "stream",
     "text": [
      "(18758, 6) (4690, 6) (5863, 6)\n"
     ]
    }
   ],
   "source": [
    "# Arrange data into X features matrix and y target vector \n",
    "target = \"Sport\"\n",
    "\n",
    "X_train = train.drop(columns= [target])\n",
    "y_train = train[target]\n",
    "X_val = val.drop(columns= [target])\n",
    "y_val = val[target]\n",
    "X_test = test.drop(columns = [target])\n",
    "y_test = test[target]\n",
    "\n",
    "print(X_train.shape, X_val.shape, X_test.shape)\n",
    "\n"
   ]
  },
  {
   "cell_type": "code",
   "execution_count": 51,
   "metadata": {},
   "outputs": [
    {
     "data": {
      "image/png": "[encoded data removed]",
      "text/plain": [
       "<Figure size 1440x1440 with 1 Axes>"
      ]
     },
     "metadata": {
      "needs_background": "light"
     },
     "output_type": "display_data"
    }
   ],
   "source": [
    "import seaborn as sns\n",
    "from matplotlib import pyplot as plt\n",
    "\n",
    "\n",
    "plt.figure(figsize=(20,20))\n",
    "sns.barplot(\n",
    "    x=train['Age'], \n",
    "    y=train['Sport'], \n",
    "    color='grey'\n",
    ")\n",
    "plt.title('Sports Based on Age');"
   ]
  },
  {
   "cell_type": "code",
   "execution_count": 29,
   "metadata": {},
   "outputs": [],
   "source": [
    "import category_encoders as ce  # !pip install category_encoders==2.*\n",
    "from sklearn.impute import SimpleImputer\n",
    "from sklearn.ensemble import RandomForestClassifier\n",
    "from sklearn.pipeline import make_pipeline"
   ]
  },
  {
   "cell_type": "code",
   "execution_count": 52,
   "metadata": {},
   "outputs": [
    {
     "name": "stdout",
     "output_type": "stream",
     "text": [
      "Logistic Regression:\n",
      "Train Accuracy 0.17976330099157692\n",
      "Validation Accuracy 0.18272921108742005\n"
     ]
    }
   ],
   "source": [
    "#LOGISITC REGRESSION\n",
    "from sklearn.linear_model import LogisticRegression\n",
    "lr = make_pipeline(\n",
    "    ce.OrdinalEncoder(),\n",
    "    LogisticRegression(solver='lbfgs', multi_class='auto', n_jobs=-1)\n",
    ")\n",
    "\n",
    "lr.fit(X_train, y_train)\n",
    "print('Logistic Regression:')\n",
    "print('Train Accuracy', lr.score(X_train, y_train))\n",
    "print('Validation Accuracy', lr.score(X_val, y_val))"
   ]
  },
  {
   "cell_type": "code",
   "execution_count": 53,
   "metadata": {},
   "outputs": [
    {
     "name": "stdout",
     "output_type": "stream",
     "text": [
      "Random Forest Validation Accuracy: 0.42388059701492536\n"
     ]
    }
   ],
   "source": [
    "#RANDOMFOREST CLASSIFER\n",
    "pipeline = make_pipeline(\n",
    "    ce.OrdinalEncoder(),\n",
    "    SimpleImputer(strategy='mean'),\n",
    "    RandomForestClassifier(n_jobs=-1, random_state=42)\n",
    ")\n",
    "\n",
    "# Fit on train and score on val\n",
    "pipeline.fit(X_train, y_train)\n",
    "print('Random Forest Validation Accuracy:', pipeline.score(X_val, y_val))"
   ]
  },
  {
   "cell_type": "code",
   "execution_count": 54,
   "metadata": {},
   "outputs": [
    {
     "name": "stdout",
     "output_type": "stream",
     "text": [
      "X_train shape before encoding (18758, 6)\n",
      "X_train shape after encoding (18758, 6)\n"
     ]
    }
   ],
   "source": [
    "print('X_train shape before encoding', X_train.shape)\n",
    "\n",
    "encoder = pipeline.named_steps['ordinalencoder']\n",
    "encoded_df = encoder.transform(X_train)\n",
    "\n",
    "print('X_train shape after encoding', encoded_df.shape)"
   ]
  },
  {
   "cell_type": "code",
   "execution_count": 55,
   "metadata": {},
   "outputs": [
    {
     "data": {
      "image/png": "[encoded data removed]",
      "text/plain": [
       "<Figure size 720x360 with 1 Axes>"
      ]
     },
     "metadata": {
      "needs_background": "light"
     },
     "output_type": "display_data"
    }
   ],
   "source": [
    "# Get feature importances\n",
    "rf = pipeline.named_steps['randomforestclassifier']\n",
    "importances = pd.Series(rf.feature_importances_, encoded_df.columns)\n",
    "\n",
    "# Plot top n feature importances\n",
    "n = 10\n",
    "plt.figure(figsize=(10, n/2))\n",
    "plt.title(f'Top {n} Features')\n",
    "importances.sort_values()[-n:].plot.barh(color='grey');"
   ]
  },
  {
   "cell_type": "code",
   "execution_count": 56,
   "metadata": {},
   "outputs": [
    {
     "data": {
      "text/plain": [
       "RandomForestClassifier(bootstrap=True, ccp_alpha=0.0, class_weight=None,\n",
       "                       criterion='gini', max_depth=None, max_features='auto',\n",
       "                       max_leaf_nodes=None, max_samples=None,\n",
       "                       min_impurity_decrease=0.0, min_impurity_split=None,\n",
       "                       min_samples_leaf=1, min_samples_split=2,\n",
       "                       min_weight_fraction_leaf=0.0, n_estimators=100,\n",
       "                       n_jobs=-1, oob_score=False, random_state=42, verbose=0,\n",
       "                       warm_start=False)"
      ]
     },
     "execution_count": 56,
     "metadata": {},
     "output_type": "execute_result"
    }
   ],
   "source": [
    "transformers = make_pipeline(\n",
    "    ce.OrdinalEncoder(),\n",
    "    SimpleImputer(strategy='median')\n",
    ")\n",
    "\n",
    "X_train_transformed = transformers.fit_transform(X_train)\n",
    "X_val_transformed = transformers.fit_transform(X_val) \n",
    "\n",
    "model = RandomForestClassifier(n_estimators=100, random_state=42, n_jobs=-1)\n",
    "model.fit(X_train_transformed, y_train)"
   ]
  },
  {
   "cell_type": "code",
   "execution_count": 57,
   "metadata": {},
   "outputs": [
    {
     "data": {
      "text/plain": [
       "PermutationImportance(cv='prefit',\n",
       "                      estimator=RandomForestClassifier(bootstrap=True,\n",
       "                                                       ccp_alpha=0.0,\n",
       "                                                       class_weight=None,\n",
       "                                                       criterion='gini',\n",
       "                                                       max_depth=None,\n",
       "                                                       max_features='auto',\n",
       "                                                       max_leaf_nodes=None,\n",
       "                                                       max_samples=None,\n",
       "                                                       min_impurity_decrease=0.0,\n",
       "                                                       min_impurity_split=None,\n",
       "                                                       min_samples_leaf=1,\n",
       "                                                       min_samples_split=2,\n",
       "                                                       min_weight_fraction_leaf=0.0,\n",
       "                                                       n_estimators=100,\n",
       "                                                       n_jobs=-1,\n",
       "                                                       oob_score=False,\n",
       "                                                       random_state=42,\n",
       "                                                       verbose=0,\n",
       "                                                       warm_start=False),\n",
       "                      n_iter=5, random_state=42, refit=True,\n",
       "                      scoring='accuracy')"
      ]
     },
     "execution_count": 57,
     "metadata": {},
     "output_type": "execute_result"
    }
   ],
   "source": [
    "import numpy as np\n",
    "import eli5 # !pip install eli5\n",
    "from eli5.sklearn import PermutationImportance\n",
    "\n",
    "#PERMUTAION IMPORTANCE\n",
    "#1. Calculate permutation importances\n",
    "permuter = PermutationImportance(\n",
    "    model, \n",
    "    scoring='accuracy',\n",
    "    n_iter=5,\n",
    "    random_state=42\n",
    ")\n",
    "\n",
    "permuter.fit(X_val_transformed, y_val)"
   ]
  },
  {
   "cell_type": "code",
   "execution_count": 58,
   "metadata": {},
   "outputs": [
    {
     "data": {
      "text/plain": [
       "Weight    0.225032\n",
       "Height    0.199062\n",
       "Year      0.145672\n",
       "Season    0.128998\n",
       "Age       0.115778\n",
       "Sex       0.114797\n",
       "dtype: float64"
      ]
     },
     "execution_count": 58,
     "metadata": {},
     "output_type": "execute_result"
    }
   ],
   "source": [
    "feature_names = X_val.columns.tolist()\n",
    "pd.Series(permuter.feature_importances_, feature_names).sort_values(ascending=False)"
   ]
  },
  {
   "cell_type": "code",
   "execution_count": 59,
   "metadata": {},
   "outputs": [
    {
     "data": {
      "text/html": [
       "\n",
       "    <style>\n",
       "    table.eli5-weights tr:hover {\n",
       "        filter: brightness(85%);\n",
       "    }\n",
       "</style>\n",
       "\n",
       "\n",
       "\n",
       "    \n",
       "\n",
       "    \n",
       "\n",
       "    \n",
       "\n",
       "    \n",
       "\n",
       "    \n",
       "\n",
       "    \n",
       "\n",
       "\n",
       "    \n",
       "\n",
       "    \n",
       "\n",
       "    \n",
       "\n",
       "    \n",
       "\n",
       "    \n",
       "\n",
       "    \n",
       "\n",
       "\n",
       "    \n",
       "\n",
       "    \n",
       "\n",
       "    \n",
       "\n",
       "    \n",
       "\n",
       "    \n",
       "        <table class=\"eli5-weights eli5-feature-importances\" style=\"border-collapse: collapse; border: none; margin-top: 0em; table-layout: auto;\">\n",
       "    <thead>\n",
       "    <tr style=\"border: none;\">\n",
       "        <th style=\"padding: 0 1em 0 0.5em; text-align: right; border: none;\">Weight</th>\n",
       "        <th style=\"padding: 0 0.5em 0 0.5em; text-align: left; border: none;\">Feature</th>\n",
       "    </tr>\n",
       "    </thead>\n",
       "    <tbody>\n",
       "    \n",
       "        <tr style=\"background-color: hsl(120, 100.00%, 80.00%); border: none;\">\n",
       "            <td style=\"padding: 0 1em 0 0.5em; text-align: right; border: none;\">\n",
       "                0.2250\n",
       "                \n",
       "                    &plusmn; 0.0079\n",
       "                \n",
       "            </td>\n",
       "            <td style=\"padding: 0 0.5em 0 0.5em; text-align: left; border: none;\">\n",
       "                Weight\n",
       "            </td>\n",
       "        </tr>\n",
       "    \n",
       "        <tr style=\"background-color: hsl(120, 100.00%, 81.65%); border: none;\">\n",
       "            <td style=\"padding: 0 1em 0 0.5em; text-align: right; border: none;\">\n",
       "                0.1991\n",
       "                \n",
       "                    &plusmn; 0.0080\n",
       "                \n",
       "            </td>\n",
       "            <td style=\"padding: 0 0.5em 0 0.5em; text-align: left; border: none;\">\n",
       "                Height\n",
       "            </td>\n",
       "        </tr>\n",
       "    \n",
       "        <tr style=\"background-color: hsl(120, 100.00%, 85.25%); border: none;\">\n",
       "            <td style=\"padding: 0 1em 0 0.5em; text-align: right; border: none;\">\n",
       "                0.1457\n",
       "                \n",
       "                    &plusmn; 0.0073\n",
       "                \n",
       "            </td>\n",
       "            <td style=\"padding: 0 0.5em 0 0.5em; text-align: left; border: none;\">\n",
       "                Year\n",
       "            </td>\n",
       "        </tr>\n",
       "    \n",
       "        <tr style=\"background-color: hsl(120, 100.00%, 86.45%); border: none;\">\n",
       "            <td style=\"padding: 0 1em 0 0.5em; text-align: right; border: none;\">\n",
       "                0.1290\n",
       "                \n",
       "                    &plusmn; 0.0040\n",
       "                \n",
       "            </td>\n",
       "            <td style=\"padding: 0 0.5em 0 0.5em; text-align: left; border: none;\">\n",
       "                Season\n",
       "            </td>\n",
       "        </tr>\n",
       "    \n",
       "        <tr style=\"background-color: hsl(120, 100.00%, 87.44%); border: none;\">\n",
       "            <td style=\"padding: 0 1em 0 0.5em; text-align: right; border: none;\">\n",
       "                0.1158\n",
       "                \n",
       "                    &plusmn; 0.0067\n",
       "                \n",
       "            </td>\n",
       "            <td style=\"padding: 0 0.5em 0 0.5em; text-align: left; border: none;\">\n",
       "                Age\n",
       "            </td>\n",
       "        </tr>\n",
       "    \n",
       "        <tr style=\"background-color: hsl(120, 100.00%, 87.51%); border: none;\">\n",
       "            <td style=\"padding: 0 1em 0 0.5em; text-align: right; border: none;\">\n",
       "                0.1148\n",
       "                \n",
       "                    &plusmn; 0.0046\n",
       "                \n",
       "            </td>\n",
       "            <td style=\"padding: 0 0.5em 0 0.5em; text-align: left; border: none;\">\n",
       "                Sex\n",
       "            </td>\n",
       "        </tr>\n",
       "    \n",
       "    \n",
       "    </tbody>\n",
       "</table>\n",
       "    \n",
       "\n",
       "    \n",
       "\n",
       "\n",
       "    \n",
       "\n",
       "    \n",
       "\n",
       "    \n",
       "\n",
       "    \n",
       "\n",
       "    \n",
       "\n",
       "    \n",
       "\n",
       "\n",
       "\n"
      ],
      "text/plain": [
       "<IPython.core.display.HTML object>"
      ]
     },
     "execution_count": 59,
     "metadata": {},
     "output_type": "execute_result"
    }
   ],
   "source": [
    "eli5.show_weights(\n",
    "    permuter,\n",
    "    top=None, #Shows all features\n",
    "    feature_names=feature_names)"
   ]
  },
  {
   "cell_type": "code",
   "execution_count": 60,
   "metadata": {},
   "outputs": [],
   "source": [
    "minimum_importance = 0 \n",
    "\n",
    "mask = permuter.feature_importances_ > minimum_importance\n",
    "features = X_train.columns[mask] # Subsetting with just the important features\n",
    "X_train = X_train[features]"
   ]
  },
  {
   "cell_type": "code",
   "execution_count": 61,
   "metadata": {},
   "outputs": [
    {
     "name": "stdout",
     "output_type": "stream",
     "text": [
      "Permutaion Importance Validation Accuracy: 0.42388059701492536\n"
     ]
    }
   ],
   "source": [
    "#PERMUTAION IMPORANCE\n",
    "X_val = X_val[features]\n",
    "\n",
    "pipeline = make_pipeline(\n",
    "    ce.OrdinalEncoder(), \n",
    "    SimpleImputer(strategy='median'), \n",
    "    RandomForestClassifier(n_estimators=100, random_state=42, n_jobs=-1)\n",
    ")\n",
    "pipeline.fit(X_train, y_train)\n",
    "score_with = pipeline.score(X_val, y_val)\n",
    "print(f'Permutaion Importance Validation Accuracy: {score_with}')"
   ]
  },
  {
   "cell_type": "code",
   "execution_count": 62,
   "metadata": {},
   "outputs": [
    {
     "data": {
      "text/plain": [
       "Pipeline(memory=None,\n",
       "         steps=[('ordinalencoder',\n",
       "                 OrdinalEncoder(cols=['Sex', 'Season'], drop_invariant=False,\n",
       "                                handle_missing='value', handle_unknown='value',\n",
       "                                mapping=[{'col': 'Sex', 'data_type': dtype('O'),\n",
       "                                          'mapping': M      1\n",
       "F      2\n",
       "NaN   -2\n",
       "dtype: int64},\n",
       "                                         {'col': 'Season',\n",
       "                                          'data_type': dtype('O'),\n",
       "                                          'mapping': Winter    1\n",
       "Summer    2\n",
       "NaN      -2\n",
       "dtype: int64}],\n",
       "                                return_df=True, verbose=0)),\n",
       "                ('xgbclassifier',\n",
       "                 XGBClassifier(base_score=0.5, booster='gbtree',\n",
       "                               colsample_bylevel=1, colsample_bynode=1,\n",
       "                               colsample_bytree=1, gamma=0, learning_rate=0.1,\n",
       "                               max_delta_step=0, max_depth=3,\n",
       "                               min_child_weight=1, missing=None,\n",
       "                               n_estimators=100, n_jobs=-1, nthread=None,\n",
       "                               objective='multi:softprob', random_state=42,\n",
       "                               reg_alpha=0, reg_lambda=1, scale_pos_weight=1,\n",
       "                               seed=None, silent=None, subsample=1,\n",
       "                               verbosity=1))],\n",
       "         verbose=False)"
      ]
     },
     "execution_count": 62,
     "metadata": {},
     "output_type": "execute_result"
    }
   ],
   "source": [
    "#XGBOOST CLASSIFIER\n",
    "from xgboost import XGBClassifier\n",
    "\n",
    "pipeline = make_pipeline(\n",
    "    ce.OrdinalEncoder(),\n",
    "    XGBClassifier(n_estimators=100, random_state=42, n_jobs=-1)\n",
    ")\n",
    "\n",
    "pipeline.fit(X_train, y_train)"
   ]
  },
  {
   "cell_type": "code",
   "execution_count": 63,
   "metadata": {},
   "outputs": [
    {
     "name": "stdout",
     "output_type": "stream",
     "text": [
      "XGBoost Validation Accuracy 0.36886993603411516\n"
     ]
    }
   ],
   "source": [
    "#XGBOOST CLASSIFIER\n",
    "#Accuracy went down compared to Random Forest. \n",
    "from sklearn.metrics import accuracy_score\n",
    "\n",
    "y_pred = pipeline.predict(X_val)\n",
    "print('XGBoost Validation Accuracy', accuracy_score(y_val, y_pred))"
   ]
  },
  {
   "cell_type": "code",
   "execution_count": 64,
   "metadata": {},
   "outputs": [
    {
     "name": "stdout",
     "output_type": "stream",
     "text": [
      "[0]\tvalidation_0-merror:0.631091\tvalidation_1-merror:0.668657\n",
      "Multiple eval metrics have been passed: 'validation_1-merror' will be used for early stopping.\n",
      "\n",
      "Will train until validation_1-merror hasn't improved in 50 rounds.\n",
      "[1]\tvalidation_0-merror:0.600757\tvalidation_1-merror:0.655864\n",
      "[2]\tvalidation_0-merror:0.580232\tvalidation_1-merror:0.640512\n",
      "[3]\tvalidation_0-merror:0.564186\tvalidation_1-merror:0.631343\n",
      "[4]\tvalidation_0-merror:0.549579\tvalidation_1-merror:0.625373\n",
      "[5]\tvalidation_0-merror:0.539237\tvalidation_1-merror:0.622601\n",
      "[6]\tvalidation_0-merror:0.529747\tvalidation_1-merror:0.617697\n",
      "[7]\tvalidation_0-merror:0.521964\tvalidation_1-merror:0.613859\n",
      "[8]\tvalidation_0-merror:0.516206\tvalidation_1-merror:0.61322\n",
      "[9]\tvalidation_0-merror:0.509329\tvalidation_1-merror:0.613433\n",
      "[10]\tvalidation_0-merror:0.501013\tvalidation_1-merror:0.612367\n",
      "[11]\tvalidation_0-merror:0.493176\tvalidation_1-merror:0.611727\n",
      "[12]\tvalidation_0-merror:0.484753\tvalidation_1-merror:0.609168\n",
      "[13]\tvalidation_0-merror:0.477983\tvalidation_1-merror:0.606397\n",
      "[14]\tvalidation_0-merror:0.470786\tvalidation_1-merror:0.605544\n",
      "[15]\tvalidation_0-merror:0.464069\tvalidation_1-merror:0.605757\n",
      "[16]\tvalidation_0-merror:0.454686\tvalidation_1-merror:0.602772\n",
      "[17]\tvalidation_0-merror:0.448502\tvalidation_1-merror:0.603411\n",
      "[18]\tvalidation_0-merror:0.444557\tvalidation_1-merror:0.604691\n",
      "[19]\tvalidation_0-merror:0.436241\tvalidation_1-merror:0.601279\n",
      "[20]\tvalidation_0-merror:0.428457\tvalidation_1-merror:0.596802\n",
      "[21]\tvalidation_0-merror:0.421633\tvalidation_1-merror:0.595949\n",
      "[22]\tvalidation_0-merror:0.412411\tvalidation_1-merror:0.595736\n",
      "[23]\tvalidation_0-merror:0.405054\tvalidation_1-merror:0.593603\n",
      "[24]\tvalidation_0-merror:0.397004\tvalidation_1-merror:0.592324\n",
      "[25]\tvalidation_0-merror:0.389381\tvalidation_1-merror:0.591258\n",
      "[26]\tvalidation_0-merror:0.382877\tvalidation_1-merror:0.588273\n",
      "[27]\tvalidation_0-merror:0.376693\tvalidation_1-merror:0.587846\n",
      "[28]\tvalidation_0-merror:0.370402\tvalidation_1-merror:0.586994\n",
      "[29]\tvalidation_0-merror:0.363898\tvalidation_1-merror:0.585501\n",
      "[30]\tvalidation_0-merror:0.356488\tvalidation_1-merror:0.582303\n",
      "[31]\tvalidation_0-merror:0.351157\tvalidation_1-merror:0.580171\n",
      "[32]\tvalidation_0-merror:0.342307\tvalidation_1-merror:0.576546\n",
      "[33]\tvalidation_0-merror:0.33671\tvalidation_1-merror:0.576119\n",
      "[34]\tvalidation_0-merror:0.330312\tvalidation_1-merror:0.579531\n",
      "[35]\tvalidation_0-merror:0.321303\tvalidation_1-merror:0.578252\n",
      "[36]\tvalidation_0-merror:0.316078\tvalidation_1-merror:0.575267\n",
      "[37]\tvalidation_0-merror:0.309575\tvalidation_1-merror:0.573987\n",
      "[38]\tvalidation_0-merror:0.30355\tvalidation_1-merror:0.573134\n",
      "[39]\tvalidation_0-merror:0.300245\tvalidation_1-merror:0.572495\n",
      "[40]\tvalidation_0-merror:0.292942\tvalidation_1-merror:0.571855\n",
      "[41]\tvalidation_0-merror:0.286491\tvalidation_1-merror:0.572495\n",
      "[42]\tvalidation_0-merror:0.282226\tvalidation_1-merror:0.571855\n",
      "[43]\tvalidation_0-merror:0.277535\tvalidation_1-merror:0.572068\n",
      "[44]\tvalidation_0-merror:0.273697\tvalidation_1-merror:0.572921\n",
      "[45]\tvalidation_0-merror:0.268419\tvalidation_1-merror:0.572495\n",
      "[46]\tvalidation_0-merror:0.262928\tvalidation_1-merror:0.572068\n",
      "[47]\tvalidation_0-merror:0.255678\tvalidation_1-merror:0.570576\n",
      "[48]\tvalidation_0-merror:0.251093\tvalidation_1-merror:0.571429\n",
      "[49]\tvalidation_0-merror:0.246028\tvalidation_1-merror:0.571429\n",
      "[50]\tvalidation_0-merror:0.240164\tvalidation_1-merror:0.570149\n",
      "[51]\tvalidation_0-merror:0.235633\tvalidation_1-merror:0.569936\n",
      "[52]\tvalidation_0-merror:0.231261\tvalidation_1-merror:0.570149\n",
      "[53]\tvalidation_0-merror:0.225237\tvalidation_1-merror:0.568017\n",
      "[54]\tvalidation_0-merror:0.221665\tvalidation_1-merror:0.567164\n",
      "[55]\tvalidation_0-merror:0.218627\tvalidation_1-merror:0.56823\n",
      "[56]\tvalidation_0-merror:0.214788\tvalidation_1-merror:0.568017\n",
      "[57]\tvalidation_0-merror:0.21111\tvalidation_1-merror:0.567591\n",
      "[58]\tvalidation_0-merror:0.205885\tvalidation_1-merror:0.563113\n",
      "[59]\tvalidation_0-merror:0.199968\tvalidation_1-merror:0.565032\n",
      "[60]\tvalidation_0-merror:0.197249\tvalidation_1-merror:0.565032\n",
      "[61]\tvalidation_0-merror:0.193837\tvalidation_1-merror:0.566951\n",
      "[62]\tvalidation_0-merror:0.190212\tvalidation_1-merror:0.566098\n",
      "[63]\tvalidation_0-merror:0.187173\tvalidation_1-merror:0.568017\n",
      "[64]\tvalidation_0-merror:0.184348\tvalidation_1-merror:0.565672\n",
      "[65]\tvalidation_0-merror:0.181842\tvalidation_1-merror:0.566311\n",
      "[66]\tvalidation_0-merror:0.179177\tvalidation_1-merror:0.566098\n",
      "[67]\tvalidation_0-merror:0.176085\tvalidation_1-merror:0.565245\n",
      "[68]\tvalidation_0-merror:0.173206\tvalidation_1-merror:0.567804\n",
      "[69]\tvalidation_0-merror:0.171074\tvalidation_1-merror:0.56887\n",
      "[70]\tvalidation_0-merror:0.168248\tvalidation_1-merror:0.567591\n",
      "[71]\tvalidation_0-merror:0.166489\tvalidation_1-merror:0.568443\n",
      "[72]\tvalidation_0-merror:0.162757\tvalidation_1-merror:0.56951\n",
      "[73]\tvalidation_0-merror:0.159612\tvalidation_1-merror:0.566951\n",
      "[74]\tvalidation_0-merror:0.15668\tvalidation_1-merror:0.566311\n",
      "[75]\tvalidation_0-merror:0.154014\tvalidation_1-merror:0.566738\n",
      "[76]\tvalidation_0-merror:0.152042\tvalidation_1-merror:0.567591\n",
      "[77]\tvalidation_0-merror:0.14863\tvalidation_1-merror:0.567804\n",
      "[78]\tvalidation_0-merror:0.146124\tvalidation_1-merror:0.566311\n",
      "[79]\tvalidation_0-merror:0.142659\tvalidation_1-merror:0.566098\n",
      "[80]\tvalidation_0-merror:0.140527\tvalidation_1-merror:0.567804\n",
      "[81]\tvalidation_0-merror:0.137861\tvalidation_1-merror:0.569936\n",
      "[82]\tvalidation_0-merror:0.135089\tvalidation_1-merror:0.571855\n",
      "[83]\tvalidation_0-merror:0.132157\tvalidation_1-merror:0.570789\n",
      "[84]\tvalidation_0-merror:0.128905\tvalidation_1-merror:0.569296\n",
      "[85]\tvalidation_0-merror:0.126826\tvalidation_1-merror:0.570789\n",
      "[86]\tvalidation_0-merror:0.125173\tvalidation_1-merror:0.572281\n",
      "[87]\tvalidation_0-merror:0.122135\tvalidation_1-merror:0.56951\n",
      "[88]\tvalidation_0-merror:0.120002\tvalidation_1-merror:0.569083\n",
      "[89]\tvalidation_0-merror:0.118136\tvalidation_1-merror:0.56823\n",
      "[90]\tvalidation_0-merror:0.11723\tvalidation_1-merror:0.568017\n",
      "[91]\tvalidation_0-merror:0.115471\tvalidation_1-merror:0.56887\n",
      "[92]\tvalidation_0-merror:0.113871\tvalidation_1-merror:0.569936\n",
      "[93]\tvalidation_0-merror:0.112592\tvalidation_1-merror:0.570576\n",
      "[94]\tvalidation_0-merror:0.110939\tvalidation_1-merror:0.56823\n",
      "[95]\tvalidation_0-merror:0.109127\tvalidation_1-merror:0.569296\n",
      "[96]\tvalidation_0-merror:0.107368\tvalidation_1-merror:0.56887\n",
      "[97]\tvalidation_0-merror:0.105981\tvalidation_1-merror:0.569936\n",
      "[98]\tvalidation_0-merror:0.103582\tvalidation_1-merror:0.570789\n",
      "[99]\tvalidation_0-merror:0.102943\tvalidation_1-merror:0.571429\n",
      "[100]\tvalidation_0-merror:0.102036\tvalidation_1-merror:0.569936\n",
      "[101]\tvalidation_0-merror:0.099584\tvalidation_1-merror:0.569936\n",
      "[102]\tvalidation_0-merror:0.098198\tvalidation_1-merror:0.570362\n",
      "[103]\tvalidation_0-merror:0.096226\tvalidation_1-merror:0.569083\n",
      "[104]\tvalidation_0-merror:0.094999\tvalidation_1-merror:0.569936\n",
      "[105]\tvalidation_0-merror:0.09292\tvalidation_1-merror:0.56951\n",
      "[106]\tvalidation_0-merror:0.091801\tvalidation_1-merror:0.569936\n",
      "[107]\tvalidation_0-merror:0.089349\tvalidation_1-merror:0.570362\n",
      "[108]\tvalidation_0-merror:0.088496\tvalidation_1-merror:0.569296\n",
      "Stopping. Best iteration:\n",
      "[58]\tvalidation_0-merror:0.205885\tvalidation_1-merror:0.563113\n",
      "\n"
     ]
    },
    {
     "data": {
      "text/plain": [
       "XGBClassifier(base_score=0.5, booster='gbtree', colsample_bylevel=1,\n",
       "              colsample_bynode=1, colsample_bytree=1, gamma=0,\n",
       "              learning_rate=0.5, max_delta_step=0, max_depth=7,\n",
       "              min_child_weight=1, missing=None, n_estimators=1000, n_jobs=-1,\n",
       "              nthread=None, objective='multi:softprob', random_state=0,\n",
       "              reg_alpha=0, reg_lambda=1, scale_pos_weight=1, seed=None,\n",
       "              silent=None, subsample=1, verbosity=1)"
      ]
     },
     "execution_count": 64,
     "metadata": {},
     "output_type": "execute_result"
    }
   ],
   "source": [
    "#XGBOOST\n",
    "encoder = ce.OrdinalEncoder()\n",
    "X_train_encoded = encoder.fit_transform(X_train)\n",
    "X_val_encoded = encoder.transform(X_val)\n",
    "\n",
    "model = XGBClassifier(\n",
    "    n_estimators=1000, # <= [up to] 1000 trees (but depends on early stopping)\n",
    "    max_depth = 7, # Deeper Trees for high cardinality categories\n",
    "    learning_rate = 0.5, \n",
    "    n_jobs=-1,\n",
    ")\n",
    "\n",
    "eval_set = [(X_train_encoded, y_train),\n",
    "            (X_val_encoded, y_val)]\n",
    "\n",
    "model.fit(X_train_encoded, y_train,\n",
    "          eval_set=eval_set,\n",
    "          eval_metric='merror',\n",
    "          early_stopping_rounds=50 ) # Stop if the score hasn't imporved in the last 50 rounds)"
   ]
  },
  {
   "cell_type": "code",
   "execution_count": 65,
   "metadata": {},
   "outputs": [
    {
     "data": {
      "image/png": "[encoded data removed]",
      "text/plain": [
       "<Figure size 432x288 with 1 Axes>"
      ]
     },
     "metadata": {
      "needs_background": "light"
     },
     "output_type": "display_data"
    }
   ],
   "source": [
    "\n",
    "results = model.evals_result()\n",
    "train_error = results['validation_0']['merror']\n",
    "val_error = results['validation_1']['merror']\n",
    "epoch = range(1, len(train_error)+1)\n",
    "plt.plot(epoch, train_error, label=\"Train\")\n",
    "plt.plot(epoch, val_error, label=\"Validation\")\n",
    "plt.ylabel('Classification Error')\n",
    "plt.xlabel('Model Complexity (n_estimators)')\n",
    "#plt.ylim((1, .1)) #Turn this on and off to see the full plt \n",
    "plt.legend();"
   ]
  },
  {
   "cell_type": "code",
   "execution_count": 67,
   "metadata": {},
   "outputs": [
    {
     "name": "stdout",
     "output_type": "stream",
     "text": [
      "Validation Accuracy 0.42388059701492536\n"
     ]
    }
   ],
   "source": [
    "encoder = ce.OrdinalEncoder()\n",
    "\n",
    "X_train_encoded = encoder.fit_transform(X_train)\n",
    "X_val_encoded = encoder.transform(X_val)\n",
    "X_test_encoded = encoder.transform(X_test)\n",
    "\n",
    "final_model = RandomForestClassifier(n_estimators=100, \n",
    "                               max_features='auto', random_state=42, \n",
    "                               n_jobs=-1)\n",
    "final_model.fit(X_train_encoded, y_train)\n",
    "\n",
    "\n",
    "print('Validation Accuracy', final_model.score(X_val_encoded, y_val))\n"
   ]
  },
  {
   "cell_type": "code",
   "execution_count": 68,
   "metadata": {},
   "outputs": [
    {
     "name": "stdout",
     "output_type": "stream",
     "text": [
      "Validation Accuracy 0.42388059701492536\n"
     ]
    }
   ],
   "source": [
    "final_pipeline = make_pipeline(\n",
    "    ce.OrdinalEncoder(), \n",
    "    RandomForestClassifier(n_estimators=100, \n",
    "                               max_features='auto', random_state=42, \n",
    "                               n_jobs=-1)\n",
    ")\n",
    "# Fit on train, score on val\n",
    "final_pipeline.fit(X_train, y_train)\n",
    "print('Validation Accuracy', final_pipeline.score(X_val, y_val))"
   ]
  },
  {
   "cell_type": "code",
   "execution_count": 69,
   "metadata": {},
   "outputs": [
    {
     "name": "stdout",
     "output_type": "stream",
     "text": [
      "Test Score: 0.41770424697253966\n"
     ]
    }
   ],
   "source": [
    "# test score\n",
    "y_pred =final_model.predict(X_test_encoded)\n",
    "class_index=1\n",
    "y_pred_proba = final_model.predict_proba(X_test_encoded)[:, class_index]\n",
    "score = final_model.score(X_test_encoded, y_test)\n",
    "print(f'Test Score: {score}')"
   ]
  },
  {
   "cell_type": "code",
   "execution_count": null,
   "metadata": {},
   "outputs": [],
   "source": []
  }
 ],
 "metadata": {
  "kernelspec": {
   "display_name": "Python 3",
   "language": "python",
   "name": "python3"
  },
  "language_info": {
   "codemirror_mode": {
    "name": "ipython",
    "version": 3
   },
   "file_extension": ".py",
   "mimetype": "text/x-python",
   "name": "python",
   "nbconvert_exporter": "python",
   "pygments_lexer": "ipython3",
   "version": "3.7.6"
  }
 },
 "nbformat": 4,
 "nbformat_minor": 4
}
